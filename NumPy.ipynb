{
  "nbformat": 4,
  "nbformat_minor": 0,
  "metadata": {
    "colab": {
      "provenance": [],
      "authorship_tag": "ABX9TyNtVP9BvnflBVAtjE/DI2fN",
      "include_colab_link": true
    },
    "kernelspec": {
      "name": "python3",
      "display_name": "Python 3"
    },
    "language_info": {
      "name": "python"
    }
  },
  "cells": [
    {
      "cell_type": "markdown",
      "metadata": {
        "id": "view-in-github",
        "colab_type": "text"
      },
      "source": [
        "<a href=\"https://colab.research.google.com/github/MrSubhadipNandi/Python-Libraries/blob/main/NumPy.ipynb\" target=\"_parent\"><img src=\"https://colab.research.google.com/assets/colab-badge.svg\" alt=\"Open In Colab\"/></a>"
      ]
    },
    {
      "cell_type": "code",
      "execution_count": null,
      "metadata": {
        "colab": {
          "base_uri": "https://localhost:8080/"
        },
        "id": "_tFP5Tm1Gtcc",
        "outputId": "ec84f339-fd5b-456c-e72c-dd8cc9cb3598"
      },
      "outputs": [
        {
          "output_type": "stream",
          "name": "stdout",
          "text": [
            "[10.  20.5 30. ]\n",
            "<class 'numpy.ndarray'>\n",
            "float64\n"
          ]
        }
      ],
      "source": [
        "import numpy as np\n",
        "array1 = np.array([10,20.5,30])\n",
        "print(array1)\n",
        "print(type(array1))\n",
        "print(array1.dtype)"
      ]
    },
    {
      "cell_type": "markdown",
      "source": [
        "**An example of 1-D array**"
      ],
      "metadata": {
        "id": "WiQgZ9PShc1Q"
      }
    },
    {
      "cell_type": "code",
      "source": [
        "import numpy as np\n",
        "array2 = np.array([10,20.5,-30, 'anyString', 'string@'])\n",
        "print(array2)\n",
        "print(type(array2))\n",
        "print(array2.dtype)"
      ],
      "metadata": {
        "colab": {
          "base_uri": "https://localhost:8080/"
        },
        "id": "RWLWxadwIu2h",
        "outputId": "db5d3b20-4cce-4a8f-8d7e-bd6ee82fa7be"
      },
      "execution_count": null,
      "outputs": [
        {
          "output_type": "stream",
          "name": "stdout",
          "text": [
            "['10' '20.5' '-30' 'anyString' 'string@']\n",
            "<class 'numpy.ndarray'>\n",
            "<U32\n"
          ]
        }
      ]
    },
    {
      "cell_type": "code",
      "source": [
        "array3 = np.array([[10,20.5,30], [40.5,-50,60], [70,80,90]])\n",
        "print(array3)\n",
        "print(type(array3))\n",
        "print(\"The type of the array is\", array3.dtype)\n",
        "print(\"The dimension of the array is\", array3.ndim)"
      ],
      "metadata": {
        "id": "jlFj0xLmJt7X",
        "outputId": "382c7c45-7df2-478c-b61a-de3f17d0160d",
        "colab": {
          "base_uri": "https://localhost:8080/"
        }
      },
      "execution_count": null,
      "outputs": [
        {
          "output_type": "stream",
          "name": "stdout",
          "text": [
            "[[ 10.   20.5  30. ]\n",
            " [ 40.5 -50.   60. ]\n",
            " [ 70.   80.   90. ]]\n",
            "<class 'numpy.ndarray'>\n",
            "The type of the array is float64\n",
            "The dimension of the array is 2\n"
          ]
        }
      ]
    },
    {
      "cell_type": "code",
      "source": [],
      "metadata": {
        "id": "gYTk5Ee2hPLY"
      },
      "execution_count": null,
      "outputs": []
    }
  ]
}